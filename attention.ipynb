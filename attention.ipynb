{
 "cells": [
  {
   "cell_type": "code",
   "execution_count": 1,
   "metadata": {},
   "outputs": [
    {
     "name": "stderr",
     "output_type": "stream",
     "text": [
      "/home/pbcquoc/anaconda3/lib/python3.6/site-packages/h5py/__init__.py:36: FutureWarning: Conversion of the second argument of issubdtype from `float` to `np.floating` is deprecated. In future, it will be treated as `np.float64 == np.dtype(float).type`.\n",
      "  from ._conv import register_converters as _register_converters\n",
      "Using TensorFlow backend.\n"
     ]
    }
   ],
   "source": [
    "import pandas as pd\n",
    "import numpy as np\n",
    "from keras.preprocessing.text import Tokenizer\n",
    "from keras.preprocessing.sequence import pad_sequences\n",
    "import matplotlib.pyplot as plt\n",
    "import torch\n",
    "import torch.nn as nn\n",
    "import torch.nn.functional as F\n",
    "from torch import optim\n",
    "from torch.autograd import Variable\n",
    "from sklearn.model_selection import train_test_split\n",
    "import torch.utils.data"
   ]
  },
  {
   "cell_type": "code",
   "execution_count": null,
   "metadata": {},
   "outputs": [],
   "source": []
  },
  {
   "cell_type": "code",
   "execution_count": 27,
   "metadata": {},
   "outputs": [
    {
     "name": "stdout",
     "output_type": "stream",
     "text": [
      "train size: 18750 - test size: 6250\n"
     ]
    }
   ],
   "source": [
    "def load_data(path):\n",
    "    df = pd.read_csv(path, header=None)\n",
    "    X = df[0].values\n",
    "    y = df[1].values\n",
    "    x_tok = Tokenizer(char_level=True, filters='')\n",
    "    x_tok.fit_on_texts(X)\n",
    "    y_tok = Tokenizer(char_level=True, filters='')\n",
    "    y_tok.fit_on_texts(y)\n",
    "    \n",
    "    X = x_tok.texts_to_sequences(X)\n",
    "    y = y_tok.texts_to_sequences(y)\n",
    "    \n",
    "    X = pad_sequences(X)\n",
    "    y = np.asarray(y)\n",
    "    \n",
    "    return X, y, x_tok.word_index, y_tok.word_index\n",
    "\n",
    "X, y, x_wid, y_wid= load_data('data/data.csv')\n",
    "X_train, X_test, y_train, y_test = train_test_split(X, y)\n",
    "print('train size: {} - test size: {}'.format(len(X_train), len(X_test)))"
   ]
  },
  {
   "cell_type": "code",
   "execution_count": 3,
   "metadata": {},
   "outputs": [
    {
     "name": "stdout",
     "output_type": "stream",
     "text": [
      "input vocab: 55 - output vocab: 13 - length of target: 10\n"
     ]
    }
   ],
   "source": [
    "hidden_size = 128\n",
    "learning_rate = 0.001\n",
    "decoder_learning_ratio = 0.1\n",
    "\n",
    "# plus 1 is padding token\n",
    "input_size = len(x_wid) + 1\n",
    "# plus 2 is sos and eos token\n",
    "output_size = len(y_wid) + 2\n",
    "sos_idx = len(y_wid) \n",
    "eos_idx = len(y_wid) + 1\n",
    "\n",
    "max_length = y.shape[1]\n",
    "print(\"input vocab: {} - output vocab: {} - length of target: {}\".format(input_size, output_size, max_length))"
   ]
  },
  {
   "cell_type": "code",
   "execution_count": 67,
   "metadata": {},
   "outputs": [],
   "source": [
    "def decoder_sentence(idxs, vocab):\n",
    "    for "
   ]
  },
  {
   "cell_type": "code",
   "execution_count": 4,
   "metadata": {},
   "outputs": [],
   "source": [
    "class Encoder(nn.Module):\n",
    "    def __init__(self, input_size, hidden_size):\n",
    "        super(Encoder, self).__init__()\n",
    "        self.hidden_size = hidden_size\n",
    "        self.embedding = nn.Embedding(input_size, hidden_size)\n",
    "        self.gru = nn.GRU(hidden_size, hidden_size)\n",
    "    \n",
    "    def forward(self, input):\n",
    "        # input: SxB        \n",
    "        embedded = self.embedding(input)\n",
    "        output, hidden = self.gru(embedded)\n",
    "        return output, hidden # SxBxH, 1xBxH              \n",
    "\n",
    "class Attn(nn.Module):\n",
    "    def __init__(self, hidden_size):\n",
    "        super(Attn ,self).__init__()\n",
    "        \n",
    "    def forward(self, hidden, encoder_outputs):\n",
    "        # encoder_outputs: TxBxH\n",
    "        # hidden: SxBxH\n",
    "        encoder_outputs = torch.transpose(encoder_outputs, 0, 1) #BxTxH\n",
    "        hidden = torch.transpose(torch.transpose(hidden, 0, 1), 1, 2) # BxHxS\n",
    "        energies = torch.bmm(encoder_outputs, hidden) # BxTxS\n",
    "        energies = torch.transpose(energies, 1, 2) # BxSxT\n",
    "        attn_weights = F.softmax(energies, dim=-1) #BxSxT\n",
    "        \n",
    "        output = torch.bmm(attn_weights, encoder_outputs) # BxSxH\n",
    "        output = torch.transpose(output, 0, 1) # SxBxH\n",
    "        attn_weights = torch.transpose(attn_weights, 0, 1) #SxBxT\n",
    "        \n",
    "        return output, attn_weights\n",
    "    \n",
    "class Decoder(nn.Module):\n",
    "    def __init__(self, output_size, hidden_size, dropout):\n",
    "        super(Decoder, self).__init__()\n",
    "        self.hidden_size = hidden_size\n",
    "        self.output_size = output_size\n",
    "        \n",
    "        self.embedding = nn.Embedding(output_size, hidden_size)\n",
    "        self.attn = Attn(hidden_size)\n",
    "        self.dropout = nn.Dropout(dropout)\n",
    "        self.gru = nn.GRU(self.hidden_size, self.hidden_size)\n",
    "        self.concat = nn.Linear(self.hidden_size*2, hidden_size)\n",
    "        self.out = nn.Linear(self.hidden_size, self.output_size)\n",
    "        \n",
    "    def forward(self, input, hidden, encoder_outputs):\n",
    "        # input: SxB\n",
    "        # encoder_outputs: BxSxH\n",
    "        # hidden: 1xBxH\n",
    "        embedded = self.embedding(input) # 1xBxH\n",
    "        embedded = self.dropout(embedded)\n",
    "        rnn_output, hidden = self.gru(embedded, hidden)  #SxBxH, 1xBxH\n",
    "        context, attn_weights = self.attn(rnn_output, encoder_outputs) # SxBxH\n",
    "        concat_input = torch.cat((rnn_output, context), -1)\n",
    "        concat_output = torch.tanh(self.concat(concat_input)) #SxBxH\n",
    "        \n",
    "        output = self.out(concat_output) # SxBxoutput_size\n",
    "        return output, hidden, attn_weights\n",
    "\n",
    "  "
   ]
  },
  {
   "cell_type": "code",
   "execution_count": 5,
   "metadata": {},
   "outputs": [],
   "source": [
    "encoder = Encoder(input_size, hidden_size)\n",
    "decoder = Decoder(output_size, hidden_size, 0.1)\n",
    "\n",
    "# Initialize optimizers and criterion\n",
    "encoder_optimizer = optim.Adam(encoder.parameters(), lr=learning_rate)\n",
    "decoder_optimizer = optim.Adam(decoder.parameters(), lr=learning_rate * decoder_learning_ratio)\n",
    "criterion = nn.CrossEntropyLoss()\n",
    "\n",
    "\n",
    "input_encoder = torch.randint(1, input_size, (34, 6), dtype=torch.long)\n",
    "encoder_outputs, hidden = encoder(input_encoder)\n",
    "input_decoder = torch.randint(1, output_size, (10, 6), dtype=torch.long)\n",
    "output, hidden, attn_weights = decoder(input_decoder, hidden, encoder_outputs)"
   ]
  },
  {
   "cell_type": "code",
   "execution_count": 80,
   "metadata": {},
   "outputs": [],
   "source": [
    "def forward_and_compute_loss(inputs, targets, encoder, decoder, criterion):\n",
    "    batch_size = inputs.size()[1]\n",
    "    \n",
    "    sos = Variable(torch.ones((1, batch_size), dtype=torch.long)*sos_idx)\n",
    "    eos = Variable(torch.ones((1, batch_size), dtype=torch.long)*eos_idx)\n",
    "    \n",
    "    decoder_inputs = torch.cat((sos, targets[:-1]), dim=0)\n",
    "    decoder_targets = torch.cat((targets[1:], eos), dim=0)\n",
    "    \n",
    "    encoder_outputs, encoder_hidden = encoder(inputs)\n",
    "    output, hidden, attn_weights = decoder(decoder_inputs, encoder_hidden, encoder_outputs)\n",
    "    \n",
    "    output = torch.transpose(torch.transpose(output, 0, 1), 1, 2) # BxCxS\n",
    "    decoder_targets = torch.transpose(decoder_targets, 0, 1)\n",
    "    loss = criterion(output, decoder_targets)\n",
    "    \n",
    "    return loss\n",
    "\n",
    "def train(inputs, targets,  encoder, decoder, encoder_optimizer, decoder_optimizer, criterion):\n",
    "    \n",
    "    encoder.train()\n",
    "    decoder.train()\n",
    "    \n",
    "    encoder_optimizer.zero_grad()\n",
    "    decoder_optimizer.zero_grad()\n",
    "    \n",
    "    train_loss = forward_and_compute_loss(inputs, targets,encoder, decoder,criterion)    \n",
    "    \n",
    "    train_loss.backward()\n",
    "    \n",
    "    encoder_optimizer.step()\n",
    "    decoder_optimizer.step()\n",
    "            \n",
    "    return train_loss.item()\n",
    "\n",
    "def evaluate(inputs, targets, encoder, decoder, criterion):\n",
    "    encoder.eval()\n",
    "    decoder.eval()\n",
    "    eval_loss = forward_and_compute_loss(*eval_data, encoder, decoder,criterion)\n",
    "    \n",
    "    return eval_loss.item()\n",
    "\n",
    "def predict(inputs, encoder, decoder, target_length=max_length):\n",
    "    \n",
    "    batch_size = inputs.size()[1]\n",
    "    decoder_inputs = Variable(torch.ones((1, batch_size), dtype=torch.long)*sos_idx)\n",
    "    encoder_outputs, encoder_hidden = encoder(inputs)\n",
    "    hidden = encoder_hidden\n",
    "    preds = []\n",
    "    for i in range(target_length):\n",
    "        output, hidden, attn_weights = decoder(decoder_inputs, hidden, encoder_outputs)\n",
    "        output = output.squeeze(dim=0)\n",
    "        pred_idx = torch.argmax(output, dim=-1)\n",
    "        \n",
    "        decoder_inputs = Variable(torch.ones((1, batch_size), dtype=torch.long)*pred_idx)\n",
    "        preds.append(decoder_inputs)\n",
    "        \n",
    "    preds = torch.cat(preds, dim=0)\n",
    "    preds = torch.transpose(preds, 0, 1).data.cpu().numpy()\n",
    "    return preds"
   ]
  },
  {
   "cell_type": "code",
   "execution_count": null,
   "metadata": {},
   "outputs": [],
   "source": []
  },
  {
   "cell_type": "code",
   "execution_count": 38,
   "metadata": {},
   "outputs": [
    {
     "data": {
      "text/plain": [
       "2.995781183242798"
      ]
     },
     "execution_count": 38,
     "metadata": {},
     "output_type": "execute_result"
    }
   ],
   "source": [
    "train(input_encoder, input_decoder, encoder, decoder, encoder_optimizer, decoder_optimizer, criterion)"
   ]
  },
  {
   "cell_type": "code",
   "execution_count": 41,
   "metadata": {},
   "outputs": [
    {
     "name": "stdout",
     "output_type": "stream",
     "text": [
      "train loss: 0.267 - eval loss: 0.272\n",
      "train loss: 0.065 - eval loss: 0.085\n",
      "train loss: 0.037 - eval loss: 0.056\n",
      "train loss: 0.026 - eval loss: 0.046\n",
      "train loss: 0.025 - eval loss: 0.041\n",
      "train loss: 0.020 - eval loss: 0.044\n",
      "train loss: 0.019 - eval loss: 0.037\n",
      "train loss: 0.017 - eval loss: 0.030\n",
      "train loss: 0.011 - eval loss: 0.026\n",
      "train loss: 0.009 - eval loss: 0.021\n",
      "train loss: 0.008 - eval loss: 0.019\n",
      "train loss: 0.006 - eval loss: 0.014\n",
      "train loss: 0.004 - eval loss: 0.013\n",
      "train loss: 0.003 - eval loss: 0.009\n",
      "train loss: 0.003 - eval loss: 0.009\n",
      "train loss: 0.005 - eval loss: 0.008\n",
      "train loss: 0.008 - eval loss: 0.006\n",
      "train loss: 0.003 - eval loss: 0.005\n",
      "train loss: 0.002 - eval loss: 0.004\n",
      "train loss: 0.005 - eval loss: 0.004\n"
     ]
    }
   ],
   "source": [
    "epochs = 20\n",
    "batch_size = 64\n",
    "\n",
    "encoder = Encoder(input_size, hidden_size)\n",
    "decoder = Decoder(output_size, hidden_size, 0.1)\n",
    "\n",
    "# Initialize optimizers and criterion\n",
    "encoder_optimizer = optim.Adam(encoder.parameters(), lr=learning_rate)\n",
    "decoder_optimizer = optim.Adam(decoder.parameters(), lr=learning_rate * decoder_learning_ratio)\n",
    "criterion = nn.CrossEntropyLoss()\n",
    "\n",
    "X_val = torch.tensor(X_test, dtype=torch.long)\n",
    "y_val = torch.tensor(y_test, dtype=torch.long)\n",
    "X_val = torch.transpose(X_val, 0, 1)\n",
    "y_val = torch.transpose(y_val, 0, 1)\n",
    "eval_data = X_val, y_val\n",
    "\n",
    "for epoch in range(epochs):\n",
    "    for idx in range(len(X_train)//batch_size):\n",
    "        X_train_batch = torch.tensor(X_train[batch_size*idx:batch_size*(idx+1)], dtype=torch.long)\n",
    "        y_train_batch = torch.tensor(y_train[batch_size*idx:batch_size*(idx+1)], dtype=torch.long)\n",
    "        \n",
    "        X_train_batch = torch.transpose(X_train_batch, 0, 1)\n",
    "        y_train_batch = torch.transpose(y_train_batch, 0, 1)\n",
    "        train_loss= train(X_train_batch, y_train_batch, encoder, decoder, encoder_optimizer, decoder_optimizer, criterion)\n",
    "    eval_loss = evaluate(X_val, y_val, encoder, decoder, criterion)\n",
    "    print('train loss: {:.3f} - eval loss: {:.3f}'.format(train_loss, eval_loss))"
   ]
  },
  {
   "cell_type": "code",
   "execution_count": 81,
   "metadata": {},
   "outputs": [
    {
     "data": {
      "text/plain": [
       "array([[ 2,  8,  2,  2,  2,  2,  2,  2,  2,  3],\n",
       "       [ 5,  7,  1,  6,  1,  3, 12,  3, 12,  3]])"
      ]
     },
     "execution_count": 81,
     "metadata": {},
     "output_type": "execute_result"
    }
   ],
   "source": [
    "predict(X_val[:, :2] ,encoder, decoder, target_length=10)"
   ]
  },
  {
   "cell_type": "code",
   "execution_count": null,
   "metadata": {},
   "outputs": [],
   "source": []
  },
  {
   "cell_type": "code",
   "execution_count": null,
   "metadata": {},
   "outputs": [],
   "source": []
  }
 ],
 "metadata": {
  "kernelspec": {
   "display_name": "Python 3",
   "language": "python",
   "name": "python3"
  },
  "language_info": {
   "codemirror_mode": {
    "name": "ipython",
    "version": 3
   },
   "file_extension": ".py",
   "mimetype": "text/x-python",
   "name": "python",
   "nbconvert_exporter": "python",
   "pygments_lexer": "ipython3",
   "version": "3.6.5"
  }
 },
 "nbformat": 4,
 "nbformat_minor": 2
}
