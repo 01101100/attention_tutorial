{
 "cells": [
  {
   "cell_type": "code",
   "execution_count": 1,
   "metadata": {},
   "outputs": [
    {
     "name": "stderr",
     "output_type": "stream",
     "text": [
      "/home/pbcquoc/anaconda3/lib/python3.6/site-packages/h5py/__init__.py:36: FutureWarning: Conversion of the second argument of issubdtype from `float` to `np.floating` is deprecated. In future, it will be treated as `np.float64 == np.dtype(float).type`.\n",
      "  from ._conv import register_converters as _register_converters\n",
      "Using TensorFlow backend.\n"
     ]
    }
   ],
   "source": [
    "import pandas as pd\n",
    "import numpy as np\n",
    "from keras.preprocessing.text import Tokenizer\n",
    "from keras.preprocessing.sequence import pad_sequences\n",
    "import matplotlib.pyplot as plt\n",
    "import torch\n",
    "import torch.nn as nn\n",
    "import torch.nn.functional as F"
   ]
  },
  {
   "cell_type": "code",
   "execution_count": 2,
   "metadata": {},
   "outputs": [],
   "source": [
    "hidden_size = 128"
   ]
  },
  {
   "cell_type": "code",
   "execution_count": 3,
   "metadata": {},
   "outputs": [],
   "source": [
    "def load_data(path):\n",
    "    df = pd.read_csv(path, header=None)\n",
    "    X = df[0].values\n",
    "    y = df[1].values\n",
    "    x_tok = Tokenizer(char_level=True, filters='')\n",
    "    x_tok.fit_on_texts(X)\n",
    "    y_tok = Tokenizer(char_level=True, filters='')\n",
    "    y_tok.fit_on_texts(y)\n",
    "    \n",
    "    X = x_tok.texts_to_sequences(X)\n",
    "    y = y_tok.texts_to_sequences(y)\n",
    "    \n",
    "    X = pad_sequences(X)\n",
    "    y = np.asarray(y)\n",
    "    \n",
    "    return X, y, x_tok.word_index, y_tok.word_index"
   ]
  },
  {
   "cell_type": "code",
   "execution_count": 4,
   "metadata": {},
   "outputs": [],
   "source": [
    "X, y, x_wid, y_wid= load_data('data/data.csv')"
   ]
  },
  {
   "cell_type": "code",
   "execution_count": 5,
   "metadata": {},
   "outputs": [],
   "source": [
    "class Encoder(nn.Module):\n",
    "    def __init__(self, input_size, hidden_size):\n",
    "        super(Encoder, self).__init__()\n",
    "        self.hidden_size = hidden_size\n",
    "        self.embedding = nn.Embedding(input_size, hidden_size)\n",
    "        self.gru = nn.GRU(hidden_size, hidden_size, batch_first=True)\n",
    "    \n",
    "    def forward(self, input, hidden):\n",
    "        embedded = self.embedding(input)\n",
    "        output = embedded\n",
    "        output, hidden = self.gru(output, hidden)\n",
    "        return output, hidden # BxSxH, Bx1xH\n",
    "    \n",
    "    def initHidden(self):\n",
    "        return torch.zeros(1, 1, self.hidden_size, device=device)                \n",
    "\n",
    "class Attn(nn.Module):\n",
    "    def __init__(self, hidden_size):\n",
    "        super(Attn ,self).__init__()\n",
    "        \n",
    "    def forward(self, hidden, encoder_outputs):\n",
    "        # encoder_outputs: BxSxH\n",
    "        # hidden: 1xBxH\n",
    "        hidden = torch.tranpose(hidden, 1, 2) # BxHx1\n",
    "        energies = torch.bmm(encoder_outputs, hidden).squeeze(-1) # BxS\n",
    "        attn_weights = F.softmax(energies).unsqueeze(1)#Bx1xS\n",
    "        output = torch.bmm(atten_weights, encoder_outputs).squeeze(1) # Bx1xH\n",
    "        output = output.transpose(output, 0, 1) # 1xBxH\n",
    "        \n",
    "        return output, attn_weights\n",
    "    \n",
    "class Decoder(nn.Module):\n",
    "    def __init__(self, hidden_size, output_size, dropout, max_length):\n",
    "        super(Decoder, self).__init__()\n",
    "        self.hidden_size = hidden_size\n",
    "        self.output_size = output_size\n",
    "        self.max_length = max_length\n",
    "        \n",
    "        self.embedding = nn.Embedding(output_size, hidden_size)\n",
    "        self.attn = Attn(hidden_size)\n",
    "        self.dropout = nn.Dropout(dropout)\n",
    "        self.gru = nn.GRU(self.hidden_size, self.hidden_size)\n",
    "        self.out = nn.Linear(self.hidden_size, self.output_size)\n",
    "        \n",
    "    def forward(self, input, hidden, encoder_outputs):\n",
    "        # input: 1xB\n",
    "        # encoder_outputs: BxSxH\n",
    "        # hidden: 1xBxH\n",
    "        embedded = self.embedding(input).view(1, -1, self.hidden_size) # 1xBxH\n",
    "        embedded = self.dropout(embedded)\n",
    "        context, attn_weights = self.attn(hidden, encoder_outputs)\n",
    "        \n",
    "        rnn_input = torch.cat((emdedded, context), -1)\n",
    "        output, hidden = self.gru(rnn_input, hidden)\n",
    "        \n",
    "        \n",
    "        \n",
    "            \n",
    "    def initHidden(self):\n",
    "        return torch.zeros(1, 1, self.hidden_size, device=device)\n",
    "                "
   ]
  },
  {
   "cell_type": "code",
   "execution_count": null,
   "metadata": {},
   "outputs": [],
   "source": []
  },
  {
   "cell_type": "code",
   "execution_count": null,
   "metadata": {},
   "outputs": [],
   "source": []
  },
  {
   "cell_type": "code",
   "execution_count": null,
   "metadata": {},
   "outputs": [],
   "source": []
  }
 ],
 "metadata": {
  "kernelspec": {
   "display_name": "Python 3",
   "language": "python",
   "name": "python3"
  },
  "language_info": {
   "codemirror_mode": {
    "name": "ipython",
    "version": 3
   },
   "file_extension": ".py",
   "mimetype": "text/x-python",
   "name": "python",
   "nbconvert_exporter": "python",
   "pygments_lexer": "ipython3",
   "version": "3.6.5"
  }
 },
 "nbformat": 4,
 "nbformat_minor": 2
}
