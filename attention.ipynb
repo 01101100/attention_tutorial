{
 "cells": [
  {
   "cell_type": "code",
   "execution_count": 1,
   "metadata": {},
   "outputs": [
    {
     "name": "stderr",
     "output_type": "stream",
     "text": [
      "/home/pbcquoc/anaconda3/lib/python3.6/site-packages/h5py/__init__.py:36: FutureWarning: Conversion of the second argument of issubdtype from `float` to `np.floating` is deprecated. In future, it will be treated as `np.float64 == np.dtype(float).type`.\n",
      "  from ._conv import register_converters as _register_converters\n",
      "Using TensorFlow backend.\n"
     ]
    }
   ],
   "source": [
    "import pandas as pd\n",
    "import numpy as np\n",
    "from keras.preprocessing.text import Tokenizer\n",
    "from keras.preprocessing.sequence import pad_sequences\n",
    "import matplotlib.pyplot as plt\n",
    "import torch\n",
    "import torch.nn as nn\n",
    "import torch.nn.functional as F"
   ]
  },
  {
   "cell_type": "code",
   "execution_count": null,
   "metadata": {},
   "outputs": [],
   "source": []
  },
  {
   "cell_type": "code",
   "execution_count": 2,
   "metadata": {},
   "outputs": [],
   "source": [
    "def load_data(path):\n",
    "    df = pd.read_csv(path, header=None)\n",
    "    X = df[0].values\n",
    "    y = df[1].values\n",
    "    x_tok = Tokenizer(char_level=True, filters='')\n",
    "    x_tok.fit_on_texts(X)\n",
    "    y_tok = Tokenizer(char_level=True, filters='')\n",
    "    y_tok.fit_on_texts(y)\n",
    "    \n",
    "    X = x_tok.texts_to_sequences(X)\n",
    "    y = y_tok.texts_to_sequences(y)\n",
    "    \n",
    "    X = pad_sequences(X)\n",
    "    y = np.asarray(y)\n",
    "    \n",
    "    return X, y, x_tok.word_index, y_tok.word_index\n",
    "\n",
    "X, y, x_wid, y_wid= load_data('data/data.csv')"
   ]
  },
  {
   "cell_type": "code",
   "execution_count": 3,
   "metadata": {},
   "outputs": [
    {
     "name": "stdout",
     "output_type": "stream",
     "text": [
      "input vocab: 34 - output vocab: 11 - length of target: 10\n"
     ]
    }
   ],
   "source": [
    "hidden_size = 128\n",
    "input_size = len(x_wid)\n",
    "output_size = len(y_wid)\n",
    "max_length = y.shape[1]\n",
    "print(\"input vocab: {} - output vocab: {} - length of target: {}\".format(input_size, output_size, max_length))"
   ]
  },
  {
   "cell_type": "code",
   "execution_count": 4,
   "metadata": {},
   "outputs": [],
   "source": [
    "class Encoder(nn.Module):\n",
    "    def __init__(self, input_size, hidden_size):\n",
    "        super(Encoder, self).__init__()\n",
    "        self.hidden_size = hidden_size\n",
    "        self.embedding = nn.Embedding(input_size + 1, hidden_size)\n",
    "        self.gru = nn.GRU(hidden_size, hidden_size)\n",
    "    \n",
    "    def forward(self, input):\n",
    "        # input: SxB        \n",
    "        embedded = self.embedding(input)\n",
    "        output, hidden = self.gru(embedded)\n",
    "        return output, hidden # SxBxH, 1xBxH              \n",
    "\n",
    "class Attn(nn.Module):\n",
    "    def __init__(self, hidden_size):\n",
    "        super(Attn ,self).__init__()\n",
    "        \n",
    "    def forward(self, hidden, encoder_outputs):\n",
    "        # encoder_outputs: TxBxH\n",
    "        # hidden: SxBxH\n",
    "        encoder_outputs = torch.transpose(encoder_outputs, 0, 1) #BxTxH\n",
    "        hidden = torch.transpose(torch.transpose(hidden, 0, 1), 1, 2) # BxHxS\n",
    "        energies = torch.bmm(encoder_outputs, hidden) # BxTxS\n",
    "        energies = torch.transpose(energies, 1, 2) # BxSxT\n",
    "        attn_weights = F.softmax(energies, dim=-1) #BxSxT\n",
    "        \n",
    "        output = torch.bmm(attn_weights, encoder_outputs) # BxSxH\n",
    "        output = torch.transpose(output, 0, 1) # SxBxH\n",
    "        attn_weights = torch.transpose(attn_weights, 0, 1) #SxBxT\n",
    "        \n",
    "        return output, attn_weights\n",
    "    \n",
    "class Decoder(nn.Module):\n",
    "    def __init__(self, output_size, hidden_size, dropout):\n",
    "        super(Decoder, self).__init__()\n",
    "        self.hidden_size = hidden_size\n",
    "        self.output_size = output_size\n",
    "        \n",
    "        self.embedding = nn.Embedding(output_size + 1, hidden_size)\n",
    "        self.attn = Attn(hidden_size)\n",
    "        self.dropout = nn.Dropout(dropout)\n",
    "        self.gru = nn.GRU(self.hidden_size, self.hidden_size)\n",
    "        self.concat = nn.Linear(self.hidden_size*2, hidden_size)\n",
    "        self.out = nn.Linear(self.hidden_size, self.output_size)\n",
    "        \n",
    "    def forward(self, input, hidden, encoder_outputs):\n",
    "        # input: SxB\n",
    "        # encoder_outputs: BxSxH\n",
    "        # hidden: 1xBxH\n",
    "        embedded = self.embedding(input) # 1xBxH\n",
    "        embedded = self.dropout(embedded)\n",
    "        rnn_output, hidden = self.gru(embedded, hidden)  #SxBxH, 1xBxH\n",
    "        context, attn_weights = self.attn(rnn_output, encoder_outputs) # SxBxH\n",
    "        concat_input = torch.cat((rnn_output, context), -1)\n",
    "        concat_output = torch.tanh(self.concat(concat_input)) #SxBxH\n",
    "        \n",
    "        output = self.out(concat_output) # SxBxoutput_size\n",
    "        return output, hidden, attn_weights\n"
   ]
  },
  {
   "cell_type": "code",
   "execution_count": 15,
   "metadata": {},
   "outputs": [
    {
     "name": "stdout",
     "output_type": "stream",
     "text": [
      "torch.Size([7, 10, 11])\n"
     ]
    }
   ],
   "source": [
    "encoder = Encoder(input_size, hidden_size)\n",
    "decoder = Decoder(output_size, hidden_size, 0.1)\n",
    "input = torch.randint(1, input_size, (34, 10))\n",
    "encoder_outputs, hidden = encoder(input)\n",
    "input_decoder = torch.randint(1, output_size, (7, 10))\n",
    "output, hidden, attn_weights = decoder(input_decoder, hidden, encoder_outputs)\n",
    "print(output.size())"
   ]
  },
  {
   "cell_type": "code",
   "execution_count": 8,
   "metadata": {},
   "outputs": [],
   "source": [
    "def train(inputs, targets, encoder, decoder, encoder_optimizer, decoder_optimizer, criterion, max_length):\n",
    "    encoder_optimizer.zero_grad()\n",
    "    decoder_optimizer.zero_grad()\n",
    "    loss = 0 # Added onto for each word\n",
    "    \n",
    "    decoder_inputs = targets[:-1]\n",
    "    decoder_targets = targets[1:]\n",
    "    \n",
    "    encoder_outputs, encoder_hidden = encoder(inputs)\n",
    "    output, hidden, attn_weights = decoder(decoder_inputs, encoder_hidden, encoder_outputs)\n",
    "    \n",
    "    loss = nn.\n",
    "\n",
    "    "
   ]
  },
  {
   "cell_type": "code",
   "execution_count": null,
   "metadata": {},
   "outputs": [],
   "source": []
  },
  {
   "cell_type": "code",
   "execution_count": null,
   "metadata": {},
   "outputs": [],
   "source": []
  },
  {
   "cell_type": "code",
   "execution_count": null,
   "metadata": {},
   "outputs": [],
   "source": []
  }
 ],
 "metadata": {
  "kernelspec": {
   "display_name": "Python 3",
   "language": "python",
   "name": "python3"
  },
  "language_info": {
   "codemirror_mode": {
    "name": "ipython",
    "version": 3
   },
   "file_extension": ".py",
   "mimetype": "text/x-python",
   "name": "python",
   "nbconvert_exporter": "python",
   "pygments_lexer": "ipython3",
   "version": "3.6.5"
  }
 },
 "nbformat": 4,
 "nbformat_minor": 2
}
